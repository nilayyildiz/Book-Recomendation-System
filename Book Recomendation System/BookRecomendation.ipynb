{
 "cells": [
  {
   "cell_type": "code",
   "execution_count": 3,
   "metadata": {},
   "outputs": [],
   "source": [
    "import pyspark as ps\n",
    "import numpy as np\n",
    "import socket\n",
    "import platform\n",
    "import pandas as pd\n",
    "from pyspark.sql import SQLContext\n",
    "from pyspark import SparkConf\n",
    "from pyspark.sql import SparkSession\n",
    "from pyspark import SparkContext\n",
    "from pyspark.ml.recommendation import ALS\n",
    "from pyspark.ml.evaluation import RegressionEvaluator\n",
    "from pyspark.ml.tuning import CrossValidator, ParamGridBuilder\n",
    "from pyspark.ml import Pipeline\n",
    "from pyspark.sql import Row\n",
    "from pyspark.sql.functions import udf, col, when\n",
    "import matplotlib.pyplot as plt"
   ]
  },
  {
   "cell_type": "code",
   "execution_count": 4,
   "metadata": {},
   "outputs": [],
   "source": [
    "appName = \"Recommender system in Spark\"\n",
    "spark = ps.sql.SparkSession.builder\\\n",
    "            .master(\"local\") \\\n",
    "            .appName(\"Book Recommendation Engine\") \\\n",
    "            .getOrCreate()\n",
    "sc = spark.sparkContext\n",
    "sqlContext = SQLContext(sc)"
   ]
  },
  {
   "cell_type": "code",
   "execution_count": 5,
   "metadata": {},
   "outputs": [
    {
     "name": "stdout",
     "output_type": "stream",
     "text": [
      "Hostname :   DESKTOP-4CF8UEG\n",
      "IP :  192.168.0.22\n"
     ]
    }
   ],
   "source": [
    "def get_Host_name_IP(): \n",
    "    try: \n",
    "        host_name = socket.gethostname() \n",
    "        host_ip = socket.gethostbyname(host_name) \n",
    "        print(\"Hostname :  \",host_name) \n",
    "        print(\"IP : \",host_ip) \n",
    "    except: \n",
    "        print(\"Unable to get Hostname and IP\")\n",
    "        \n",
    "get_Host_name_IP()"
   ]
  },
  {
   "cell_type": "code",
   "execution_count": 4,
   "metadata": {},
   "outputs": [
    {
     "name": "stdout",
     "output_type": "stream",
     "text": [
      "Computer Config\n",
      "System: Windows\n",
      "Node Name: DESKTOP-KD1TH9K\n",
      "Release: 10\n",
      "Version: 10.0.19041\n",
      "Machine: AMD64\n",
      "Processor: Intel64 Family 6 Model 94 Stepping 3, GenuineIntel\n"
     ]
    }
   ],
   "source": [
    "print(\"Computer Config\")\n",
    "system_conf = platform.uname()\n",
    "\n",
    "print(f\"System: {system_conf.system}\")\n",
    "print(f\"Node Name: {system_conf.node}\")\n",
    "print(f\"Release: {system_conf.release}\")\n",
    "print(f\"Version: {system_conf.version}\")\n",
    "print(f\"Machine: {system_conf.machine}\")\n",
    "print(f\"Processor: {system_conf.processor}\")"
   ]
  },
  {
   "cell_type": "code",
   "execution_count": 6,
   "metadata": {
    "scrolled": true
   },
   "outputs": [
    {
     "name": "stdout",
     "output_type": "stream",
     "text": [
      "root\n",
      " |-- book_id: integer (nullable = true)\n",
      " |-- user_id: integer (nullable = true)\n",
      " |-- rating: integer (nullable = true)\n",
      "\n"
     ]
    }
   ],
   "source": [
    "ratings = spark.read.csv(r\"C:\\Users\\Nilayy\\Desktop\\dataset\\ratings.csv\", header=True, inferSchema=True) \n",
    "ratings.printSchema()"
   ]
  },
  {
   "cell_type": "code",
   "execution_count": 6,
   "metadata": {},
   "outputs": [
    {
     "name": "stdout",
     "output_type": "stream",
     "text": [
      "+-------+-------+------+\n",
      "|book_id|user_id|rating|\n",
      "+-------+-------+------+\n",
      "|      1|    314|     5|\n",
      "|      1|    439|     3|\n",
      "|      1|    588|     5|\n",
      "|      1|   1169|     4|\n",
      "|      1|   1185|     4|\n",
      "|      1|   2077|     4|\n",
      "|      1|   2487|     4|\n",
      "|      1|   2900|     5|\n",
      "|      1|   3662|     4|\n",
      "|      1|   3922|     5|\n",
      "+-------+-------+------+\n",
      "only showing top 10 rows\n",
      "\n"
     ]
    }
   ],
   "source": [
    "ratings.show(10)"
   ]
  },
  {
   "cell_type": "code",
   "execution_count": 7,
   "metadata": {},
   "outputs": [
    {
     "name": "stdout",
     "output_type": "stream",
     "text": [
      "root\n",
      " |-- id: integer (nullable = true)\n",
      " |-- book_id: integer (nullable = true)\n",
      " |-- best_book_id: integer (nullable = true)\n",
      " |-- work_id: integer (nullable = true)\n",
      " |-- books_count: integer (nullable = true)\n",
      " |-- isbn: string (nullable = true)\n",
      " |-- isbn13: double (nullable = true)\n",
      " |-- authors: string (nullable = true)\n",
      " |-- original_publication_year: double (nullable = true)\n",
      " |-- original_title: string (nullable = true)\n",
      " |-- title: string (nullable = true)\n",
      " |-- language_code: string (nullable = true)\n",
      " |-- average_rating: string (nullable = true)\n",
      " |-- ratings_count: string (nullable = true)\n",
      " |-- work_ratings_count: string (nullable = true)\n",
      " |-- work_text_reviews_count: string (nullable = true)\n",
      " |-- ratings_1: double (nullable = true)\n",
      " |-- ratings_2: integer (nullable = true)\n",
      " |-- ratings_3: integer (nullable = true)\n",
      " |-- ratings_4: integer (nullable = true)\n",
      " |-- ratings_5: integer (nullable = true)\n",
      " |-- image_url: string (nullable = true)\n",
      " |-- small_image_url: string (nullable = true)\n",
      "\n"
     ]
    }
   ],
   "source": [
    "books = spark.read.csv(r\"C:\\Users\\yonca\\Desktop\\Final_BüyükVeri\\dataset\\books.csv\", header=True, inferSchema=True) \n",
    "books.printSchema()"
   ]
  },
  {
   "cell_type": "code",
   "execution_count": 8,
   "metadata": {},
   "outputs": [
    {
     "name": "stdout",
     "output_type": "stream",
     "text": [
      "+---+-------+------------+-------+-----------+---------+----------------+--------------------+-------------------------+--------------------+--------------------+-------------+--------------+-------------+------------------+-----------------------+---------+---------+---------+---------+---------+--------------------+--------------------+\n",
      "| id|book_id|best_book_id|work_id|books_count|     isbn|          isbn13|             authors|original_publication_year|      original_title|               title|language_code|average_rating|ratings_count|work_ratings_count|work_text_reviews_count|ratings_1|ratings_2|ratings_3|ratings_4|ratings_5|           image_url|     small_image_url|\n",
      "+---+-------+------------+-------+-----------+---------+----------------+--------------------+-------------------------+--------------------+--------------------+-------------+--------------+-------------+------------------+-----------------------+---------+---------+---------+---------+---------+--------------------+--------------------+\n",
      "|  1|2767052|     2767052|2792775|        272|439023483|9.78043902348E12|     Suzanne Collins|                   2008.0|    The Hunger Games|The Hunger Games ...|          eng|          4.34|      4780653|           4942365|                 155254|  66715.0|   127936|   560092|  1481305|  2706317|https://images.gr...|https://images.gr...|\n",
      "|  2|      3|           3|4640799|        491|439554934|9.78043955493E12|J.K. Rowling, Mar...|                   1997.0|Harry Potter and ...|Harry Potter and ...|          eng|          4.44|      4602479|           4800065|                  75867|  75504.0|   101676|   455024|  1156318|  3011543|https://images.gr...|https://images.gr...|\n",
      "|  3|  41865|       41865|3212258|        226|316015849|9.78031601584E12|     Stephenie Meyer|                   2005.0|            Twilight|Twilight (Twiligh...|        en-US|          3.57|      3866839|           3916824|                  95009| 456191.0|   436802|   793319|   875073|  1355439|https://images.gr...|https://images.gr...|\n",
      "|  4|   2657|        2657|3275794|        487| 61120081|9.78006112008E12|          Harper Lee|                   1960.0|To Kill a Mocking...|To Kill a Mocking...|          eng|          4.25|      3198671|           3340896|                  72586|  60427.0|   117415|   446835|  1001952|  1714267|https://images.gr...|https://images.gr...|\n",
      "|  5|   4671|        4671| 245494|       1356|743273567|9.78074327356E12| F. Scott Fitzgerald|                   1925.0|    The Great Gatsby|    The Great Gatsby|          eng|          3.89|      2683664|           2773745|                  51992|  86236.0|   197621|   606158|   936012|   947718|https://images.gr...|https://images.gr...|\n",
      "+---+-------+------------+-------+-----------+---------+----------------+--------------------+-------------------------+--------------------+--------------------+-------------+--------------+-------------+------------------+-----------------------+---------+---------+---------+---------+---------+--------------------+--------------------+\n",
      "only showing top 5 rows\n",
      "\n"
     ]
    }
   ],
   "source": [
    "books.show(5)"
   ]
  },
  {
   "cell_type": "code",
   "execution_count": 9,
   "metadata": {},
   "outputs": [
    {
     "data": {
      "image/png": "[encoded data removed]",
      "text/plain": [
       "<Figure size 432x288 with 1 Axes>"
      ]
     },
     "metadata": {
      "needs_background": "light"
     },
     "output_type": "display_data"
    },
    {
     "data": {
      "text/plain": [
       "Text(0.5, 0, 'Published Books According To Years')"
      ]
     },
     "execution_count": 9,
     "metadata": {},
     "output_type": "execute_result"
    },
    {
     "data": {
      "image/png": "[encoded data removed]",
      "text/plain": [
       "<Figure size 432x288 with 1 Axes>"
      ]
     },
     "metadata": {
      "needs_background": "light"
     },
     "output_type": "display_data"
    }
   ],
   "source": [
    "#print(books.toPandas()['original_publication_year'].unique().shape)\n",
    "books_pandas = books.toPandas()\n",
    "l1_count = books_pandas[(books_pandas['original_publication_year'] >= 1800) & (books_pandas['original_publication_year'] < 1850)]\n",
    "l2_count = books_pandas[(books_pandas['original_publication_year'] >= 1850) & (books_pandas['original_publication_year'] < 1900)]\n",
    "l3_count = books_pandas[(books_pandas['original_publication_year'] >= 1900) & (books_pandas['original_publication_year'] < 1950)]\n",
    "l4_count = books_pandas[(books_pandas['original_publication_year'] >= 1950) & (books_pandas['original_publication_year'] < 2000)]\n",
    "l5_count = books_pandas[(books_pandas['original_publication_year'] >= 2000) & (books_pandas['original_publication_year'] < 2020)]\n",
    "\n",
    "height = [l1_count.shape[0], l2_count.shape[0], l3_count.shape[0], l4_count.shape[0], l5_count.shape[0]]\n",
    " \n",
    "bars = ('1800-1850', '1850-1900', '1900-1950', '1950-2000', '2000-2020')\n",
    "y_pos = np.arange(len(bars))\n",
    " \n",
    "plt.bar(y_pos, height)\n",
    " \n",
    "plt.xticks(y_pos, bars, color='blue')\n",
    "plt.yticks(color='blue')\n",
    "plt.xlabel('Published Books According To Years', fontweight='bold', color = 'orange', fontsize='18')\n",
    "\n",
    "plt.show()\n",
    "\n",
    "# print line plot.\n",
    "fig, ax = plt.subplots()  # Create a figure containing a single axes.\n",
    "ax.plot([1, 2, 3, 4, 5], [l1_count.shape[0], l2_count.shape[0], l3_count.shape[0], l4_count.shape[0], l5_count.shape[0]])  # Plot some data on the axes.\n",
    "plt.xlabel('Published Books According To Years', fontweight='bold', color = 'orange', fontsize='18')\n",
    "\n"
   ]
  },
  {
   "cell_type": "code",
   "execution_count": 10,
   "metadata": {},
   "outputs": [],
   "source": [
    "training, validation = ratings.randomSplit([.7,.3])"
   ]
  },
  {
   "cell_type": "code",
   "execution_count": 12,
   "metadata": {},
   "outputs": [
    {
     "name": "stdout",
     "output_type": "stream",
     "text": [
      "Mean Squared Error =4.480201530281656\n"
     ]
    }
   ],
   "source": [
    "als =ALS(maxIter=5,regParam=0.01, rank=10, seed=5033, userCol=\"user_id\", itemCol=\"book_id\", ratingCol=\"rating\")\n",
    "model = als.fit(training)\n",
    "predictions= model.transform(validation)\n",
    "new_predictions=predictions.filter(col('prediction') != np.nan)\n",
    "evaluator = RegressionEvaluator(metricName='mse',labelCol=\"rating\",predictionCol=\"prediction\")\n",
    "mse = evaluator.evaluate(new_predictions)\n",
    "print(\"Mean Squared Error =\" + str(mse))"
   ]
  },
  {
   "cell_type": "code",
   "execution_count": 13,
   "metadata": {},
   "outputs": [
    {
     "name": "stdout",
     "output_type": "stream",
     "text": [
      "+-------+-------+------+----------+\n",
      "|book_id|user_id|rating|prediction|\n",
      "+-------+-------+------+----------+\n",
      "|    148|   9731|     3| 3.2291517|\n",
      "|    148|  24326|     5| 3.2135563|\n",
      "|    148|  10140|     3| 2.5370867|\n",
      "|    148|  13991|     4| 4.1649113|\n",
      "|    148|  10610|     4| 3.7679412|\n",
      "|    148|  11569|     2| 3.5470116|\n",
      "|    148|   8440|     3| 3.3266873|\n",
      "|    148|  29031|     3| 4.4091973|\n",
      "|    148|   8510|     3|  3.747941|\n",
      "|    148|   2171|     4| 3.4893057|\n",
      "+-------+-------+------+----------+\n",
      "only showing top 10 rows\n",
      "\n"
     ]
    }
   ],
   "source": [
    "predictions = model.transform(validation)\n",
    "predictions.show(n=10)"
   ]
  },
  {
   "cell_type": "code",
   "execution_count": 14,
   "metadata": {},
   "outputs": [],
   "source": [
    "pred_arr = predictions.toPandas()"
   ]
  },
  {
   "cell_type": "code",
   "execution_count": 15,
   "metadata": {},
   "outputs": [
    {
     "data": {
      "image/png": "[encoded data removed]",
      "text/plain": [
       "<Figure size 432x288 with 1 Axes>"
      ]
     },
     "metadata": {
      "needs_background": "light"
     },
     "output_type": "display_data"
    }
   ],
   "source": [
    "bars1 = []\n",
    "bars2 = []\n",
    "\n",
    "for i in range(5):\n",
    "    bars1.append(pred_arr['rating'][i])\n",
    "    bars2.append(pred_arr['prediction'][i])\n",
    "\n",
    "barWidth = 0.3\n",
    " \n",
    "yer1 = [0.5, 0.4, 0.5]\n",
    "yer2 = [1, 0.7, 1]\n",
    " \n",
    "r1 = np.arange(len(bars1))\n",
    "r2 = [x + barWidth for x in r1]\n",
    " \n",
    "plt.bar(r1, bars1, width = barWidth, color = 'blue', edgecolor = 'black', capsize=7, label='Rating')\n",
    "plt.bar(r2, bars2, width = barWidth, color = 'orange', edgecolor = 'black', capsize=7, label='Predictione')\n",
    " \n",
    "plt.xticks([r + barWidth for r in range(len(bars1))], ['Prediction_1', 'Prediction_2', 'Prediction_3', 'Prediction_4', 'Prediction_5'])\n",
    "plt.ylabel('Rating')\n",
    "plt.legend()\n",
    " \n",
    "plt.show()"
   ]
  },
  {
   "cell_type": "code",
   "execution_count": 16,
   "metadata": {},
   "outputs": [
    {
     "name": "stdout",
     "output_type": "stream",
     "text": [
      "Mean Squared Error =1.0793906265216076\n"
     ]
    }
   ],
   "source": [
    "als =ALS(maxIter=5,regParam=0.1, rank=10, seed=5033, userCol=\"user_id\", itemCol=\"book_id\", ratingCol=\"rating\")\n",
    "model = als.fit(training)\n",
    "predictions= model.transform(validation)\n",
    "new_predictions=predictions.filter(col('prediction') != np.nan)\n",
    "evaluator = RegressionEvaluator(metricName='mse',labelCol=\"rating\",predictionCol=\"prediction\")\n",
    "mse = evaluator.evaluate(new_predictions)\n",
    "print(\"Mean Squared Error =\" + str(mse))"
   ]
  },
  {
   "cell_type": "code",
   "execution_count": 17,
   "metadata": {},
   "outputs": [
    {
     "name": "stdout",
     "output_type": "stream",
     "text": [
      "+-------+-------+------+----------+\n",
      "|book_id|user_id|rating|prediction|\n",
      "+-------+-------+------+----------+\n",
      "|    148|   9731|     3| 2.9676414|\n",
      "|    148|  24326|     5| 3.3267012|\n",
      "|    148|  10140|     3| 2.7818825|\n",
      "|    148|  13991|     4| 3.8236709|\n",
      "|    148|  10610|     4| 3.8420846|\n",
      "|    148|  11569|     2| 3.4530537|\n",
      "|    148|   8440|     3| 3.1907957|\n",
      "|    148|  29031|     3| 3.5798583|\n",
      "|    148|   8510|     3|  3.345409|\n",
      "|    148|   2171|     4| 3.4328349|\n",
      "+-------+-------+------+----------+\n",
      "only showing top 10 rows\n",
      "\n"
     ]
    }
   ],
   "source": [
    "predictions = model.transform(validation)\n",
    "predictions.show(n=10)"
   ]
  },
  {
   "cell_type": "code",
   "execution_count": 18,
   "metadata": {},
   "outputs": [],
   "source": [
    "pred_arr = predictions.toPandas()"
   ]
  },
  {
   "cell_type": "code",
   "execution_count": 19,
   "metadata": {},
   "outputs": [
    {
     "data": {
      "image/png": "[encoded data removed]",
      "text/plain": [
       "<Figure size 432x288 with 1 Axes>"
      ]
     },
     "metadata": {
      "needs_background": "light"
     },
     "output_type": "display_data"
    }
   ],
   "source": [
    "bars1 = []\n",
    "bars2 = []\n",
    "\n",
    "for i in range(5):\n",
    "    bars1.append(pred_arr['rating'][i])\n",
    "    bars2.append(pred_arr['prediction'][i])\n",
    "\n",
    "barWidth = 0.3\n",
    " \n",
    "yer1 = [0.5, 0.4, 0.5]\n",
    "yer2 = [1, 0.7, 1]\n",
    " \n",
    "r1 = np.arange(len(bars1))\n",
    "r2 = [x + barWidth for x in r1]\n",
    " \n",
    "plt.bar(r1, bars1, width = barWidth, color = 'blue', edgecolor = 'black', capsize=7, label='Rating')\n",
    "plt.bar(r2, bars2, width = barWidth, color = 'orange', edgecolor = 'black', capsize=7, label='Predictione')\n",
    " \n",
    "plt.xticks([r + barWidth for r in range(len(bars1))], ['Prediction_1', 'Prediction_2', 'Prediction_3', 'Prediction_4', 'Prediction_5'])\n",
    "plt.ylabel('Rating')\n",
    "plt.legend()\n",
    " \n",
    "plt.show()"
   ]
  },
  {
   "cell_type": "code",
   "execution_count": 20,
   "metadata": {},
   "outputs": [
    {
     "name": "stdout",
     "output_type": "stream",
     "text": [
      "Mean Squared Error =1.9455661260030832\n"
     ]
    }
   ],
   "source": [
    "als =ALS(maxIter=5,regParam=0.01, rank=50, seed=5033, userCol=\"user_id\", itemCol=\"book_id\", ratingCol=\"rating\")\n",
    "model = als.fit(training)\n",
    "predictions= model.transform(validation)\n",
    "new_predictions=predictions.filter(col('prediction') != np.nan)\n",
    "evaluator = RegressionEvaluator(metricName='mse',labelCol=\"rating\",predictionCol=\"prediction\")\n",
    "mse = evaluator.evaluate(new_predictions)\n",
    "print(\"Mean Squared Error =\" + str(mse))"
   ]
  },
  {
   "cell_type": "code",
   "execution_count": 21,
   "metadata": {},
   "outputs": [
    {
     "name": "stdout",
     "output_type": "stream",
     "text": [
      "+-------+-------+------+----------+\n",
      "|book_id|user_id|rating|prediction|\n",
      "+-------+-------+------+----------+\n",
      "|    148|   9731|     3| 3.1267052|\n",
      "|    148|  24326|     5| 2.1658254|\n",
      "|    148|  10140|     3| 4.3616776|\n",
      "|    148|  13991|     4|   4.07409|\n",
      "|    148|  10610|     4| 2.0680456|\n",
      "|    148|  11569|     2|  4.736159|\n",
      "|    148|   8440|     3| 3.0810251|\n",
      "|    148|  29031|     3| 2.6255922|\n",
      "|    148|   8510|     3|  2.687926|\n",
      "|    148|   2171|     4| 2.3664396|\n",
      "+-------+-------+------+----------+\n",
      "only showing top 10 rows\n",
      "\n"
     ]
    }
   ],
   "source": [
    "predictions = model.transform(validation)\n",
    "predictions.show(n=10)"
   ]
  },
  {
   "cell_type": "code",
   "execution_count": 22,
   "metadata": {},
   "outputs": [],
   "source": [
    "pred_arr = predictions.toPandas()"
   ]
  },
  {
   "cell_type": "code",
   "execution_count": 23,
   "metadata": {},
   "outputs": [
    {
     "data": {
      "image/png": "[encoded data removed]",
      "text/plain": [
       "<Figure size 432x288 with 1 Axes>"
      ]
     },
     "metadata": {
      "needs_background": "light"
     },
     "output_type": "display_data"
    }
   ],
   "source": [
    "bars1 = []\n",
    "bars2 = []\n",
    "\n",
    "for i in range(5):\n",
    "    bars1.append(pred_arr['rating'][i])\n",
    "    bars2.append(pred_arr['prediction'][i])\n",
    "\n",
    "barWidth = 0.3\n",
    " \n",
    "yer1 = [0.5, 0.4, 0.5]\n",
    "yer2 = [1, 0.7, 1]\n",
    " \n",
    "r1 = np.arange(len(bars1))\n",
    "r2 = [x + barWidth for x in r1]\n",
    " \n",
    "plt.bar(r1, bars1, width = barWidth, color = 'blue', edgecolor = 'black', capsize=7, label='Rating')\n",
    "plt.bar(r2, bars2, width = barWidth, color = 'orange', edgecolor = 'black', capsize=7, label='Predictione')\n",
    " \n",
    "plt.xticks([r + barWidth for r in range(len(bars1))], ['Prediction_1', 'Prediction_2', 'Prediction_3', 'Prediction_4', 'Prediction_5'])\n",
    "plt.ylabel('Rating')\n",
    "plt.legend()\n",
    " \n",
    "plt.show()"
   ]
  },
  {
   "cell_type": "code",
   "execution_count": 24,
   "metadata": {},
   "outputs": [
    {
     "name": "stdout",
     "output_type": "stream",
     "text": [
      "Mean Squared Error =0.9963975142586904\n"
     ]
    }
   ],
   "source": [
    "als =ALS(maxIter=5,regParam=0.1, rank=50, seed=5033, userCol=\"user_id\", itemCol=\"book_id\", ratingCol=\"rating\")\n",
    "model = als.fit(training)\n",
    "predictions= model.transform(validation)\n",
    "new_predictions=predictions.filter(col('prediction') != np.nan)\n",
    "evaluator = RegressionEvaluator(metricName='mse',labelCol=\"rating\",predictionCol=\"prediction\")\n",
    "mse = evaluator.evaluate(new_predictions)\n",
    "print(\"Mean Squared Error =\" + str(mse))"
   ]
  },
  {
   "cell_type": "code",
   "execution_count": 25,
   "metadata": {},
   "outputs": [
    {
     "name": "stdout",
     "output_type": "stream",
     "text": [
      "+-------+-------+------+----------+\n",
      "|book_id|user_id|rating|prediction|\n",
      "+-------+-------+------+----------+\n",
      "|    148|   9731|     3|  3.032034|\n",
      "|    148|  24326|     5| 3.2456317|\n",
      "|    148|  10140|     3| 2.7692778|\n",
      "|    148|  13991|     4| 3.7267506|\n",
      "|    148|  10610|     4|  3.841927|\n",
      "|    148|  11569|     2| 3.7030916|\n",
      "|    148|   8440|     3|  2.879486|\n",
      "|    148|  29031|     3| 3.1381044|\n",
      "|    148|   8510|     3|   3.05894|\n",
      "|    148|   2171|     4|  3.445322|\n",
      "+-------+-------+------+----------+\n",
      "only showing top 10 rows\n",
      "\n"
     ]
    }
   ],
   "source": [
    "predictions = model.transform(validation)\n",
    "predictions.show(n=10)"
   ]
  },
  {
   "cell_type": "code",
   "execution_count": 26,
   "metadata": {},
   "outputs": [],
   "source": [
    "pred_arr = predictions.toPandas()"
   ]
  },
  {
   "cell_type": "code",
   "execution_count": 27,
   "metadata": {},
   "outputs": [
    {
     "data": {
      "image/png": "[encoded data removed]",
      "text/plain": [
       "<Figure size 432x288 with 1 Axes>"
      ]
     },
     "metadata": {
      "needs_background": "light"
     },
     "output_type": "display_data"
    }
   ],
   "source": [
    "bars1 = []\n",
    "bars2 = []\n",
    "\n",
    "for i in range(5):\n",
    "    bars1.append(pred_arr['rating'][i])\n",
    "    bars2.append(pred_arr['prediction'][i])\n",
    "\n",
    "barWidth = 0.3\n",
    " \n",
    "yer1 = [0.5, 0.4, 0.5]\n",
    "yer2 = [1, 0.7, 1]\n",
    " \n",
    "r1 = np.arange(len(bars1))\n",
    "r2 = [x + barWidth for x in r1]\n",
    " \n",
    "plt.bar(r1, bars1, width = barWidth, color = 'blue', edgecolor = 'black', capsize=7, label='Rating')\n",
    "plt.bar(r2, bars2, width = barWidth, color = 'orange', edgecolor = 'black', capsize=7, label='Predictione')\n",
    " \n",
    "plt.xticks([r + barWidth for r in range(len(bars1))], ['Prediction_1', 'Prediction_2', 'Prediction_3', 'Prediction_4', 'Prediction_5'])\n",
    "plt.ylabel('Rating')\n",
    "plt.legend()\n",
    " \n",
    "plt.show()"
   ]
  },
  {
   "cell_type": "code",
   "execution_count": 28,
   "metadata": {},
   "outputs": [
    {
     "name": "stdout",
     "output_type": "stream",
     "text": [
      "Mean Squared Error =1.1626380520284787\n"
     ]
    }
   ],
   "source": [
    "als =ALS(maxIter=5,regParam=0.01, rank=100, seed=5033, userCol=\"user_id\", itemCol=\"book_id\", ratingCol=\"rating\")\n",
    "model = als.fit(training)\n",
    "predictions= model.transform(validation)\n",
    "new_predictions=predictions.filter(col('prediction') != np.nan)\n",
    "evaluator = RegressionEvaluator(metricName='mse',labelCol=\"rating\",predictionCol=\"prediction\")\n",
    "mse = evaluator.evaluate(new_predictions)\n",
    "print(\"Mean Squared Error =\" + str(mse))"
   ]
  },
  {
   "cell_type": "code",
   "execution_count": 29,
   "metadata": {},
   "outputs": [
    {
     "name": "stdout",
     "output_type": "stream",
     "text": [
      "+-------+-------+------+----------+\n",
      "|book_id|user_id|rating|prediction|\n",
      "+-------+-------+------+----------+\n",
      "|    148|   9731|     3| 3.4589443|\n",
      "|    148|  24326|     5| 2.7614129|\n",
      "|    148|  10140|     3| 2.4347498|\n",
      "|    148|  13991|     4|  3.047411|\n",
      "|    148|  10610|     4| 3.7056844|\n",
      "|    148|  11569|     2| 3.3756704|\n",
      "|    148|   8440|     3| 3.3470623|\n",
      "|    148|  29031|     3|   4.27324|\n",
      "|    148|   8510|     3| 2.8204308|\n",
      "|    148|   2171|     4| 3.3916056|\n",
      "+-------+-------+------+----------+\n",
      "only showing top 10 rows\n",
      "\n"
     ]
    }
   ],
   "source": [
    "predictions = model.transform(validation)\n",
    "predictions.show(n=10)"
   ]
  },
  {
   "cell_type": "code",
   "execution_count": 30,
   "metadata": {},
   "outputs": [],
   "source": [
    "pred_arr = predictions.toPandas()"
   ]
  },
  {
   "cell_type": "code",
   "execution_count": 31,
   "metadata": {},
   "outputs": [
    {
     "data": {
      "image/png": "[encoded data removed]",
      "text/plain": [
       "<Figure size 432x288 with 1 Axes>"
      ]
     },
     "metadata": {
      "needs_background": "light"
     },
     "output_type": "display_data"
    }
   ],
   "source": [
    "bars1 = []\n",
    "bars2 = []\n",
    "\n",
    "for i in range(5):\n",
    "    bars1.append(pred_arr['rating'][i])\n",
    "    bars2.append(pred_arr['prediction'][i])\n",
    "\n",
    "barWidth = 0.3\n",
    " \n",
    "yer1 = [0.5, 0.4, 0.5]\n",
    "yer2 = [1, 0.7, 1]\n",
    " \n",
    "r1 = np.arange(len(bars1))\n",
    "r2 = [x + barWidth for x in r1]\n",
    " \n",
    "plt.bar(r1, bars1, width = barWidth, color = 'blue', edgecolor = 'black', capsize=7, label='Rating')\n",
    "plt.bar(r2, bars2, width = barWidth, color = 'orange', edgecolor = 'black', capsize=7, label='Predictione')\n",
    " \n",
    "plt.xticks([r + barWidth for r in range(len(bars1))], ['Prediction_1', 'Prediction_2', 'Prediction_3', 'Prediction_4', 'Prediction_5'])\n",
    "plt.ylabel('Rating')\n",
    "plt.legend()\n",
    " \n",
    "plt.show()"
   ]
  },
  {
   "cell_type": "code",
   "execution_count": 32,
   "metadata": {},
   "outputs": [
    {
     "name": "stdout",
     "output_type": "stream",
     "text": [
      "Mean Squared Error =0.9518198686174815\n"
     ]
    }
   ],
   "source": [
    "als =ALS(maxIter=5,regParam=0.1, rank=100, seed=5033, userCol=\"user_id\", itemCol=\"book_id\", ratingCol=\"rating\")\n",
    "model = als.fit(training)\n",
    "predictions= model.transform(validation)\n",
    "new_predictions=predictions.filter(col('prediction') != np.nan)\n",
    "evaluator = RegressionEvaluator(metricName='mse',labelCol=\"rating\",predictionCol=\"prediction\")\n",
    "mse = evaluator.evaluate(new_predictions)\n",
    "print(\"Mean Squared Error =\" + str(mse))"
   ]
  },
  {
   "cell_type": "code",
   "execution_count": 33,
   "metadata": {},
   "outputs": [
    {
     "name": "stdout",
     "output_type": "stream",
     "text": [
      "+-------+-------+------+----------+\n",
      "|book_id|user_id|rating|prediction|\n",
      "+-------+-------+------+----------+\n",
      "|    148|   9731|     3| 2.9504406|\n",
      "|    148|  24326|     5|  3.410782|\n",
      "|    148|  10140|     3| 2.7679646|\n",
      "|    148|  13991|     4| 3.5759444|\n",
      "|    148|  10610|     4| 3.7860143|\n",
      "|    148|  11569|     2| 3.5894527|\n",
      "|    148|   8440|     3| 3.0692854|\n",
      "|    148|  29031|     3| 3.4267032|\n",
      "|    148|   8510|     3|  3.146552|\n",
      "|    148|   2171|     4|  3.346509|\n",
      "+-------+-------+------+----------+\n",
      "only showing top 10 rows\n",
      "\n"
     ]
    }
   ],
   "source": [
    "predictions = model.transform(validation)\n",
    "predictions.show(n=10)"
   ]
  },
  {
   "cell_type": "code",
   "execution_count": 34,
   "metadata": {},
   "outputs": [],
   "source": [
    "pred_arr = predictions.toPandas()"
   ]
  },
  {
   "cell_type": "code",
   "execution_count": 35,
   "metadata": {},
   "outputs": [
    {
     "data": {
      "image/png": "[encoded data removed]",
      "text/plain": [
       "<Figure size 432x288 with 1 Axes>"
      ]
     },
     "metadata": {
      "needs_background": "light"
     },
     "output_type": "display_data"
    }
   ],
   "source": [
    "bars1 = []\n",
    "bars2 = []\n",
    "\n",
    "for i in range(5):\n",
    "    bars1.append(pred_arr['rating'][i])\n",
    "    bars2.append(pred_arr['prediction'][i])\n",
    "\n",
    "barWidth = 0.3\n",
    " \n",
    "yer1 = [0.5, 0.4, 0.5]\n",
    "yer2 = [1, 0.7, 1]\n",
    " \n",
    "r1 = np.arange(len(bars1))\n",
    "r2 = [x + barWidth for x in r1]\n",
    " \n",
    "plt.bar(r1, bars1, width = barWidth, color = 'blue', edgecolor = 'black', capsize=7, label='Rating')\n",
    "plt.bar(r2, bars2, width = barWidth, color = 'orange', edgecolor = 'black', capsize=7, label='Predictione')\n",
    " \n",
    "plt.xticks([r + barWidth for r in range(len(bars1))], ['Prediction_1', 'Prediction_2', 'Prediction_3', 'Prediction_4', 'Prediction_5'])\n",
    "plt.ylabel('Rating')\n",
    "plt.legend()\n",
    " \n",
    "plt.show()"
   ]
  },
  {
   "cell_type": "code",
   "execution_count": 36,
   "metadata": {},
   "outputs": [
    {
     "name": "stdout",
     "output_type": "stream",
     "text": [
      "Mean Squared Error =2.2740100940270804\n"
     ]
    }
   ],
   "source": [
    "als =ALS(maxIter=10,regParam=0.01, rank=10, seed=5033, userCol=\"user_id\", itemCol=\"book_id\", ratingCol=\"rating\")\n",
    "model = als.fit(training)\n",
    "predictions= model.transform(validation)\n",
    "new_predictions=predictions.filter(col('prediction') != np.nan)\n",
    "evaluator = RegressionEvaluator(metricName='mse',labelCol=\"rating\",predictionCol=\"prediction\")\n",
    "mse = evaluator.evaluate(new_predictions)\n",
    "print(\"Mean Squared Error =\" + str(mse))"
   ]
  },
  {
   "cell_type": "code",
   "execution_count": 37,
   "metadata": {},
   "outputs": [
    {
     "name": "stdout",
     "output_type": "stream",
     "text": [
      "+-------+-------+------+----------+\n",
      "|book_id|user_id|rating|prediction|\n",
      "+-------+-------+------+----------+\n",
      "|    148|   9731|     3| 3.3719528|\n",
      "|    148|  24326|     5|  3.210324|\n",
      "|    148|  10140|     3| 2.3789272|\n",
      "|    148|  13991|     4|  4.167864|\n",
      "|    148|  10610|     4| 3.8329117|\n",
      "|    148|  11569|     2| 3.3879528|\n",
      "|    148|   8440|     3| 3.1847758|\n",
      "|    148|  29031|     3| 4.1641073|\n",
      "|    148|   8510|     3| 3.3390865|\n",
      "|    148|   2171|     4| 3.6995943|\n",
      "+-------+-------+------+----------+\n",
      "only showing top 10 rows\n",
      "\n"
     ]
    }
   ],
   "source": [
    "predictions = model.transform(validation)\n",
    "predictions.show(n=10)"
   ]
  },
  {
   "cell_type": "code",
   "execution_count": 38,
   "metadata": {},
   "outputs": [],
   "source": [
    "pred_arr = predictions.toPandas()"
   ]
  },
  {
   "cell_type": "code",
   "execution_count": 39,
   "metadata": {},
   "outputs": [
    {
     "data": {
      "image/png": "[encoded data removed]",
      "text/plain": [
       "<Figure size 432x288 with 1 Axes>"
      ]
     },
     "metadata": {
      "needs_background": "light"
     },
     "output_type": "display_data"
    }
   ],
   "source": [
    "bars1 = []\n",
    "bars2 = []\n",
    "\n",
    "for i in range(5):\n",
    "    bars1.append(pred_arr['rating'][i])\n",
    "    bars2.append(pred_arr['prediction'][i])\n",
    "\n",
    "barWidth = 0.3\n",
    " \n",
    "yer1 = [0.5, 0.4, 0.5]\n",
    "yer2 = [1, 0.7, 1]\n",
    " \n",
    "r1 = np.arange(len(bars1))\n",
    "r2 = [x + barWidth for x in r1]\n",
    " \n",
    "plt.bar(r1, bars1, width = barWidth, color = 'blue', edgecolor = 'black', capsize=7, label='Rating')\n",
    "plt.bar(r2, bars2, width = barWidth, color = 'orange', edgecolor = 'black', capsize=7, label='Predictione')\n",
    " \n",
    "plt.xticks([r + barWidth for r in range(len(bars1))], ['Prediction_1', 'Prediction_2', 'Prediction_3', 'Prediction_4', 'Prediction_5'])\n",
    "plt.ylabel('Rating')\n",
    "plt.legend()\n",
    " \n",
    "plt.show()"
   ]
  },
  {
   "cell_type": "code",
   "execution_count": 40,
   "metadata": {},
   "outputs": [
    {
     "name": "stdout",
     "output_type": "stream",
     "text": [
      "Root Mean Squared Error =0.9231085241034463\n"
     ]
    }
   ],
   "source": [
    "als =ALS(maxIter=10,regParam=0.1, rank=10, seed=5033, userCol=\"user_id\", itemCol=\"book_id\", ratingCol=\"rating\")\n",
    "model = als.fit(training)\n",
    "predictions= model.transform(validation)\n",
    "new_predictions=predictions.filter(col('prediction') != np.nan)\n",
    "evaluator = RegressionEvaluator(metricName='rmse',labelCol=\"rating\",predictionCol=\"prediction\")\n",
    "mse = evaluator.evaluate(new_predictions)\n",
    "print(\"Root Mean Squared Error =\" + str(mse))"
   ]
  },
  {
   "cell_type": "code",
   "execution_count": 41,
   "metadata": {},
   "outputs": [
    {
     "name": "stdout",
     "output_type": "stream",
     "text": [
      "+-------+-------+------+----------+\n",
      "|book_id|user_id|rating|prediction|\n",
      "+-------+-------+------+----------+\n",
      "|    148|   9731|     3| 2.9242492|\n",
      "|    148|  24326|     5|  3.272995|\n",
      "|    148|  10140|     3| 2.7671998|\n",
      "|    148|  13991|     4|  3.745944|\n",
      "|    148|  10610|     4| 3.8309107|\n",
      "|    148|  11569|     2|  3.414052|\n",
      "|    148|   8440|     3| 3.0545058|\n",
      "|    148|  29031|     3| 3.4554827|\n",
      "|    148|   8510|     3| 3.0883625|\n",
      "|    148|   2171|     4| 3.4522903|\n",
      "+-------+-------+------+----------+\n",
      "only showing top 10 rows\n",
      "\n"
     ]
    }
   ],
   "source": [
    "predictions = model.transform(validation)\n",
    "predictions.show(n=10)"
   ]
  },
  {
   "cell_type": "code",
   "execution_count": 42,
   "metadata": {},
   "outputs": [],
   "source": [
    "pred_arr = predictions.toPandas()"
   ]
  },
  {
   "cell_type": "code",
   "execution_count": 43,
   "metadata": {},
   "outputs": [
    {
     "data": {
      "image/png": "[encoded data removed]",
      "text/plain": [
       "<Figure size 432x288 with 1 Axes>"
      ]
     },
     "metadata": {
      "needs_background": "light"
     },
     "output_type": "display_data"
    }
   ],
   "source": [
    "bars1 = []\n",
    "bars2 = []\n",
    "\n",
    "for i in range(5):\n",
    "    bars1.append(pred_arr['rating'][i])\n",
    "    bars2.append(pred_arr['prediction'][i])\n",
    "\n",
    "barWidth = 0.3\n",
    " \n",
    "yer1 = [0.5, 0.4, 0.5]\n",
    "yer2 = [1, 0.7, 1]\n",
    " \n",
    "r1 = np.arange(len(bars1))\n",
    "r2 = [x + barWidth for x in r1]\n",
    " \n",
    "plt.bar(r1, bars1, width = barWidth, color = 'blue', edgecolor = 'black', capsize=7, label='Rating')\n",
    "plt.bar(r2, bars2, width = barWidth, color = 'orange', edgecolor = 'black', capsize=7, label='Predictione')\n",
    " \n",
    "plt.xticks([r + barWidth for r in range(len(bars1))], ['Prediction_1', 'Prediction_2', 'Prediction_3', 'Prediction_4', 'Prediction_5'])\n",
    "plt.ylabel('Rating')\n",
    "plt.legend()\n",
    " \n",
    "plt.show()"
   ]
  },
  {
   "cell_type": "code",
   "execution_count": 44,
   "metadata": {},
   "outputs": [
    {
     "name": "stdout",
     "output_type": "stream",
     "text": [
      "Mean Squared Error =1.1454975255110746\n"
     ]
    }
   ],
   "source": [
    "als =ALS(maxIter=10,regParam=0.01, rank=50, seed=5033, userCol=\"user_id\", itemCol=\"book_id\", ratingCol=\"rating\")\n",
    "model = als.fit(training)\n",
    "predictions= model.transform(validation)\n",
    "new_predictions=predictions.filter(col('prediction') != np.nan)\n",
    "evaluator = RegressionEvaluator(metricName='mse',labelCol=\"rating\",predictionCol=\"prediction\")\n",
    "mse = evaluator.evaluate(new_predictions)\n",
    "print(\"Mean Squared Error =\" + str(mse))"
   ]
  },
  {
   "cell_type": "code",
   "execution_count": 45,
   "metadata": {
    "scrolled": true
   },
   "outputs": [
    {
     "name": "stdout",
     "output_type": "stream",
     "text": [
      "+-------+-------+------+----------+\n",
      "|book_id|user_id|rating|prediction|\n",
      "+-------+-------+------+----------+\n",
      "|    148|   9731|     3| 3.4244714|\n",
      "|    148|  24326|     5|  2.005247|\n",
      "|    148|  10140|     3| 3.8131108|\n",
      "|    148|  13991|     4| 4.1824036|\n",
      "|    148|  10610|     4| 3.0956328|\n",
      "|    148|  11569|     2|  4.064213|\n",
      "|    148|   8440|     3|  2.944862|\n",
      "|    148|  29031|     3| 2.3370435|\n",
      "|    148|   8510|     3| 2.5873866|\n",
      "|    148|   2171|     4| 2.4490469|\n",
      "+-------+-------+------+----------+\n",
      "only showing top 10 rows\n",
      "\n"
     ]
    }
   ],
   "source": [
    "predictions = model.transform(validation)\n",
    "predictions.show(n=10)"
   ]
  },
  {
   "cell_type": "code",
   "execution_count": 46,
   "metadata": {},
   "outputs": [],
   "source": [
    "pred_arr = predictions.toPandas()"
   ]
  },
  {
   "cell_type": "code",
   "execution_count": 47,
   "metadata": {},
   "outputs": [
    {
     "data": {
      "image/png": "[encoded data removed]",
      "text/plain": [
       "<Figure size 432x288 with 1 Axes>"
      ]
     },
     "metadata": {
      "needs_background": "light"
     },
     "output_type": "display_data"
    }
   ],
   "source": [
    "bars1 = []\n",
    "bars2 = []\n",
    "\n",
    "for i in range(5):\n",
    "    bars1.append(pred_arr['rating'][i])\n",
    "    bars2.append(pred_arr['prediction'][i])\n",
    "\n",
    "barWidth = 0.3\n",
    " \n",
    "yer1 = [0.5, 0.4, 0.5]\n",
    "yer2 = [1, 0.7, 1]\n",
    " \n",
    "r1 = np.arange(len(bars1))\n",
    "r2 = [x + barWidth for x in r1]\n",
    " \n",
    "plt.bar(r1, bars1, width = barWidth, color = 'blue', edgecolor = 'black', capsize=7, label='Rating')\n",
    "plt.bar(r2, bars2, width = barWidth, color = 'orange', edgecolor = 'black', capsize=7, label='Predictione')\n",
    " \n",
    "plt.xticks([r + barWidth for r in range(len(bars1))], ['Prediction_1', 'Prediction_2', 'Prediction_3', 'Prediction_4', 'Prediction_5'])\n",
    "plt.ylabel('Rating')\n",
    "plt.legend()\n",
    " \n",
    "plt.show()"
   ]
  },
  {
   "cell_type": "code",
   "execution_count": 48,
   "metadata": {},
   "outputs": [
    {
     "name": "stdout",
     "output_type": "stream",
     "text": [
      "Mean Squared Error =0.8075795661455852\n"
     ]
    }
   ],
   "source": [
    "als =ALS(maxIter=10,regParam=0.1, rank=50, seed=5033, userCol=\"user_id\", itemCol=\"book_id\", ratingCol=\"rating\")\n",
    "model = als.fit(training)\n",
    "predictions= model.transform(validation)\n",
    "new_predictions=predictions.filter(col('prediction') != np.nan)\n",
    "evaluator = RegressionEvaluator(metricName='mse',labelCol=\"rating\",predictionCol=\"prediction\")\n",
    "mse = evaluator.evaluate(new_predictions)\n",
    "print(\"Mean Squared Error =\" + str(mse))"
   ]
  },
  {
   "cell_type": "code",
   "execution_count": 49,
   "metadata": {},
   "outputs": [
    {
     "name": "stdout",
     "output_type": "stream",
     "text": [
      "+-------+-------+------+----------+\n",
      "|book_id|user_id|rating|prediction|\n",
      "+-------+-------+------+----------+\n",
      "|    148|   9731|     3| 2.9818723|\n",
      "|    148|  24326|     5| 3.1046405|\n",
      "|    148|  10140|     3| 2.7416606|\n",
      "|    148|  13991|     4| 3.6862955|\n",
      "|    148|  10610|     4|  3.730769|\n",
      "|    148|  11569|     2| 3.6864507|\n",
      "|    148|   8440|     3| 2.9883876|\n",
      "|    148|  29031|     3|  3.215085|\n",
      "|    148|   8510|     3|  2.799493|\n",
      "|    148|   2171|     4| 3.3230727|\n",
      "+-------+-------+------+----------+\n",
      "only showing top 10 rows\n",
      "\n"
     ]
    }
   ],
   "source": [
    "predictions = model.transform(validation)\n",
    "predictions.show(n=10)"
   ]
  },
  {
   "cell_type": "code",
   "execution_count": 50,
   "metadata": {},
   "outputs": [],
   "source": [
    "pred_arr = predictions.toPandas()"
   ]
  },
  {
   "cell_type": "code",
   "execution_count": 51,
   "metadata": {},
   "outputs": [
    {
     "data": {
      "image/png": "[encoded data removed]",
      "text/plain": [
       "<Figure size 432x288 with 1 Axes>"
      ]
     },
     "metadata": {
      "needs_background": "light"
     },
     "output_type": "display_data"
    }
   ],
   "source": [
    "bars1 = []\n",
    "bars2 = []\n",
    "\n",
    "for i in range(5):\n",
    "    bars1.append(pred_arr['rating'][i])\n",
    "    bars2.append(pred_arr['prediction'][i])\n",
    "\n",
    "barWidth = 0.3\n",
    " \n",
    "yer1 = [0.5, 0.4, 0.5]\n",
    "yer2 = [1, 0.7, 1]\n",
    " \n",
    "r1 = np.arange(len(bars1))\n",
    "r2 = [x + barWidth for x in r1]\n",
    " \n",
    "plt.bar(r1, bars1, width = barWidth, color = 'blue', edgecolor = 'black', capsize=7, label='Rating')\n",
    "plt.bar(r2, bars2, width = barWidth, color = 'orange', edgecolor = 'black', capsize=7, label='Predictione')\n",
    " \n",
    "plt.xticks([r + barWidth for r in range(len(bars1))], ['Prediction_1', 'Prediction_2', 'Prediction_3', 'Prediction_4', 'Prediction_5'])\n",
    "plt.ylabel('Rating')\n",
    "plt.legend()\n",
    " \n",
    "plt.show()"
   ]
  },
  {
   "cell_type": "code",
   "execution_count": 52,
   "metadata": {},
   "outputs": [
    {
     "name": "stdout",
     "output_type": "stream",
     "text": [
      "Mean Squared Error =0.9126663107030001\n"
     ]
    }
   ],
   "source": [
    "als =ALS(maxIter=10,regParam=0.01, rank=100, seed=5033, userCol=\"user_id\", itemCol=\"book_id\", ratingCol=\"rating\")\n",
    "model = als.fit(training)\n",
    "predictions= model.transform(validation)\n",
    "new_predictions=predictions.filter(col('prediction') != np.nan)\n",
    "evaluator = RegressionEvaluator(metricName='mse',labelCol=\"rating\",predictionCol=\"prediction\")\n",
    "mse = evaluator.evaluate(new_predictions)\n",
    "print(\"Mean Squared Error =\" + str(mse))"
   ]
  },
  {
   "cell_type": "code",
   "execution_count": 53,
   "metadata": {},
   "outputs": [
    {
     "name": "stdout",
     "output_type": "stream",
     "text": [
      "+-------+-------+------+----------+\n",
      "|book_id|user_id|rating|prediction|\n",
      "+-------+-------+------+----------+\n",
      "|    148|   9731|     3| 2.9091399|\n",
      "|    148|  24326|     5| 3.2530034|\n",
      "|    148|  10140|     3|  2.502994|\n",
      "|    148|  13991|     4| 3.6310444|\n",
      "|    148|  10610|     4| 4.3637753|\n",
      "|    148|  11569|     2| 3.2608118|\n",
      "|    148|   8440|     3|  2.707437|\n",
      "|    148|  29031|     3|  3.671193|\n",
      "|    148|   8510|     3| 2.5655758|\n",
      "|    148|   2171|     4|   2.99344|\n",
      "+-------+-------+------+----------+\n",
      "only showing top 10 rows\n",
      "\n"
     ]
    }
   ],
   "source": [
    "predictions = model.transform(validation)\n",
    "predictions.show(n=10)"
   ]
  },
  {
   "cell_type": "code",
   "execution_count": 54,
   "metadata": {},
   "outputs": [],
   "source": [
    "pred_arr = predictions.toPandas()"
   ]
  },
  {
   "cell_type": "code",
   "execution_count": 55,
   "metadata": {},
   "outputs": [
    {
     "data": {
      "image/png": "[encoded data removed]",
      "text/plain": [
       "<Figure size 432x288 with 1 Axes>"
      ]
     },
     "metadata": {
      "needs_background": "light"
     },
     "output_type": "display_data"
    }
   ],
   "source": [
    "bars1 = []\n",
    "bars2 = []\n",
    "\n",
    "for i in range(5):\n",
    "    bars1.append(pred_arr['rating'][i])\n",
    "    bars2.append(pred_arr['prediction'][i])\n",
    "\n",
    "barWidth = 0.3\n",
    " \n",
    "yer1 = [0.5, 0.4, 0.5]\n",
    "yer2 = [1, 0.7, 1]\n",
    " \n",
    "r1 = np.arange(len(bars1))\n",
    "r2 = [x + barWidth for x in r1]\n",
    " \n",
    "plt.bar(r1, bars1, width = barWidth, color = 'blue', edgecolor = 'black', capsize=7, label='Rating')\n",
    "plt.bar(r2, bars2, width = barWidth, color = 'orange', edgecolor = 'black', capsize=7, label='Predictione')\n",
    " \n",
    "plt.xticks([r + barWidth for r in range(len(bars1))], ['Prediction_1', 'Prediction_2', 'Prediction_3', 'Prediction_4', 'Prediction_5'])\n",
    "plt.ylabel('Rating')\n",
    "plt.legend()\n",
    " \n",
    "plt.show()"
   ]
  },
  {
   "cell_type": "code",
   "execution_count": 56,
   "metadata": {},
   "outputs": [
    {
     "name": "stdout",
     "output_type": "stream",
     "text": [
      "Mean Squared Error =0.7935447193923424\n"
     ]
    }
   ],
   "source": [
    "als =ALS(maxIter=10,regParam=0.1, rank=100, seed=5033, userCol=\"user_id\", itemCol=\"book_id\", ratingCol=\"rating\")\n",
    "model = als.fit(training)\n",
    "predictions= model.transform(validation)\n",
    "new_predictions=predictions.filter(col('prediction') != np.nan)\n",
    "evaluator = RegressionEvaluator(metricName='mse',labelCol=\"rating\",predictionCol=\"prediction\")\n",
    "mse = evaluator.evaluate(new_predictions)\n",
    "print(\"Mean Squared Error =\" + str(mse))"
   ]
  },
  {
   "cell_type": "code",
   "execution_count": 57,
   "metadata": {},
   "outputs": [
    {
     "name": "stdout",
     "output_type": "stream",
     "text": [
      "+-------+-------+------+----------+\n",
      "|book_id|user_id|rating|prediction|\n",
      "+-------+-------+------+----------+\n",
      "|    148|   9731|     3| 2.8691196|\n",
      "|    148|  24326|     5| 3.3675466|\n",
      "|    148|  10140|     3|  2.785399|\n",
      "|    148|  13991|     4|  3.639722|\n",
      "|    148|  10610|     4|  3.713633|\n",
      "|    148|  11569|     2|  3.573561|\n",
      "|    148|   8440|     3| 3.0541885|\n",
      "|    148|  29031|     3| 3.3195095|\n",
      "|    148|   8510|     3| 3.0018785|\n",
      "|    148|   2171|     4| 3.4192991|\n",
      "+-------+-------+------+----------+\n",
      "only showing top 10 rows\n",
      "\n"
     ]
    }
   ],
   "source": [
    "predictions = model.transform(validation)\n",
    "predictions.show(n=10)"
   ]
  },
  {
   "cell_type": "code",
   "execution_count": 58,
   "metadata": {},
   "outputs": [],
   "source": [
    "pred_arr = predictions.toPandas()"
   ]
  },
  {
   "cell_type": "code",
   "execution_count": 59,
   "metadata": {},
   "outputs": [
    {
     "data": {
      "image/png": "[encoded data removed]",
      "text/plain": [
       "<Figure size 432x288 with 1 Axes>"
      ]
     },
     "metadata": {
      "needs_background": "light"
     },
     "output_type": "display_data"
    }
   ],
   "source": [
    "bars1 = []\n",
    "bars2 = []\n",
    "\n",
    "for i in range(5):\n",
    "    bars1.append(pred_arr['rating'][i])\n",
    "    bars2.append(pred_arr['prediction'][i])\n",
    "\n",
    "barWidth = 0.3\n",
    " \n",
    "yer1 = [0.5, 0.4, 0.5]\n",
    "yer2 = [1, 0.7, 1]\n",
    " \n",
    "r1 = np.arange(len(bars1))\n",
    "r2 = [x + barWidth for x in r1]\n",
    " \n",
    "plt.bar(r1, bars1, width = barWidth, color = 'blue', edgecolor = 'black', capsize=7, label='Rating')\n",
    "plt.bar(r2, bars2, width = barWidth, color = 'orange', edgecolor = 'black', capsize=7, label='Predictione')\n",
    " \n",
    "plt.xticks([r + barWidth for r in range(len(bars1))], ['Prediction_1', 'Prediction_2', 'Prediction_3', 'Prediction_4', 'Prediction_5'])\n",
    "plt.ylabel('Rating')\n",
    "plt.legend()\n",
    " \n",
    "plt.show()"
   ]
  },
  {
   "cell_type": "code",
   "execution_count": 60,
   "metadata": {},
   "outputs": [
    {
     "name": "stdout",
     "output_type": "stream",
     "text": [
      "Mean Squared Error =1.8229097617091403\n"
     ]
    }
   ],
   "source": [
    "als =ALS(maxIter=15,regParam=0.01, rank=10, seed=5033, userCol=\"user_id\", itemCol=\"book_id\", ratingCol=\"rating\")\n",
    "model = als.fit(training)\n",
    "predictions= model.transform(validation)\n",
    "new_predictions=predictions.filter(col('prediction') != np.nan)\n",
    "evaluator = RegressionEvaluator(metricName='mse',labelCol=\"rating\",predictionCol=\"prediction\")\n",
    "mse = evaluator.evaluate(new_predictions)\n",
    "print(\"Mean Squared Error =\" + str(mse))"
   ]
  },
  {
   "cell_type": "code",
   "execution_count": 61,
   "metadata": {},
   "outputs": [
    {
     "name": "stdout",
     "output_type": "stream",
     "text": [
      "+-------+-------+------+----------+\n",
      "|book_id|user_id|rating|prediction|\n",
      "+-------+-------+------+----------+\n",
      "|    148|   9731|     3| 3.3492882|\n",
      "|    148|  24326|     5|  3.222043|\n",
      "|    148|  10140|     3|  2.352969|\n",
      "|    148|  13991|     4| 4.1921215|\n",
      "|    148|  10610|     4| 3.8477328|\n",
      "|    148|  11569|     2| 3.2235413|\n",
      "|    148|   8440|     3| 3.0738204|\n",
      "|    148|  29031|     3| 4.2043967|\n",
      "|    148|   8510|     3|  3.118398|\n",
      "|    148|   2171|     4|  3.773509|\n",
      "+-------+-------+------+----------+\n",
      "only showing top 10 rows\n",
      "\n"
     ]
    }
   ],
   "source": [
    "predictions = model.transform(validation)\n",
    "predictions.show(n=10)"
   ]
  },
  {
   "cell_type": "code",
   "execution_count": 62,
   "metadata": {},
   "outputs": [],
   "source": [
    "pred_arr = predictions.toPandas()"
   ]
  },
  {
   "cell_type": "code",
   "execution_count": 63,
   "metadata": {},
   "outputs": [
    {
     "data": {
      "image/png": "[encoded data removed]",
      "text/plain": [
       "<Figure size 432x288 with 1 Axes>"
      ]
     },
     "metadata": {
      "needs_background": "light"
     },
     "output_type": "display_data"
    }
   ],
   "source": [
    "bars1 = []\n",
    "bars2 = []\n",
    "\n",
    "for i in range(5):\n",
    "    bars1.append(pred_arr['rating'][i])\n",
    "    bars2.append(pred_arr['prediction'][i])\n",
    "\n",
    "barWidth = 0.3\n",
    " \n",
    "yer1 = [0.5, 0.4, 0.5]\n",
    "yer2 = [1, 0.7, 1]\n",
    " \n",
    "r1 = np.arange(len(bars1))\n",
    "r2 = [x + barWidth for x in r1]\n",
    " \n",
    "plt.bar(r1, bars1, width = barWidth, color = 'blue', edgecolor = 'black', capsize=7, label='Rating')\n",
    "plt.bar(r2, bars2, width = barWidth, color = 'orange', edgecolor = 'black', capsize=7, label='Predictione')\n",
    " \n",
    "plt.xticks([r + barWidth for r in range(len(bars1))], ['Prediction_1', 'Prediction_2', 'Prediction_3', 'Prediction_4', 'Prediction_5'])\n",
    "plt.ylabel('Rating')\n",
    "plt.legend()\n",
    " \n",
    "plt.show()"
   ]
  },
  {
   "cell_type": "code",
   "execution_count": 64,
   "metadata": {},
   "outputs": [
    {
     "name": "stdout",
     "output_type": "stream",
     "text": [
      "Mean Squared Error =0.8378813990851887\n"
     ]
    }
   ],
   "source": [
    "als =ALS(maxIter=15,regParam=0.1, rank=10, seed=5033, userCol=\"user_id\", itemCol=\"book_id\", ratingCol=\"rating\")\n",
    "model = als.fit(training)\n",
    "predictions= model.transform(validation)\n",
    "new_predictions=predictions.filter(col('prediction') != np.nan)\n",
    "evaluator = RegressionEvaluator(metricName='mse',labelCol=\"rating\",predictionCol=\"prediction\")\n",
    "mse = evaluator.evaluate(new_predictions)\n",
    "print(\"Mean Squared Error =\" + str(mse))"
   ]
  },
  {
   "cell_type": "code",
   "execution_count": 65,
   "metadata": {},
   "outputs": [
    {
     "name": "stdout",
     "output_type": "stream",
     "text": [
      "+-------+-------+------+----------+\n",
      "|book_id|user_id|rating|prediction|\n",
      "+-------+-------+------+----------+\n",
      "|    148|   9731|     3|  2.947927|\n",
      "|    148|  24326|     5| 3.2313454|\n",
      "|    148|  10140|     3|  2.736107|\n",
      "|    148|  13991|     4| 3.7575326|\n",
      "|    148|  10610|     4| 3.8585951|\n",
      "|    148|  11569|     2|  3.467792|\n",
      "|    148|   8440|     3| 3.0980027|\n",
      "|    148|  29031|     3| 3.4051833|\n",
      "|    148|   8510|     3|  2.909329|\n",
      "|    148|   2171|     4|  3.409178|\n",
      "+-------+-------+------+----------+\n",
      "only showing top 10 rows\n",
      "\n"
     ]
    }
   ],
   "source": [
    "predictions = model.transform(validation)\n",
    "predictions.show(n=10)"
   ]
  },
  {
   "cell_type": "code",
   "execution_count": 66,
   "metadata": {},
   "outputs": [],
   "source": [
    "pred_arr = predictions.toPandas()"
   ]
  },
  {
   "cell_type": "code",
   "execution_count": 67,
   "metadata": {},
   "outputs": [
    {
     "data": {
      "image/png": "[encoded data removed]",
      "text/plain": [
       "<Figure size 432x288 with 1 Axes>"
      ]
     },
     "metadata": {
      "needs_background": "light"
     },
     "output_type": "display_data"
    }
   ],
   "source": [
    "bars1 = []\n",
    "bars2 = []\n",
    "\n",
    "for i in range(5):\n",
    "    bars1.append(pred_arr['rating'][i])\n",
    "    bars2.append(pred_arr['prediction'][i])\n",
    "\n",
    "barWidth = 0.3\n",
    " \n",
    "yer1 = [0.5, 0.4, 0.5]\n",
    "yer2 = [1, 0.7, 1]\n",
    " \n",
    "r1 = np.arange(len(bars1))\n",
    "r2 = [x + barWidth for x in r1]\n",
    " \n",
    "plt.bar(r1, bars1, width = barWidth, color = 'blue', edgecolor = 'black', capsize=7, label='Rating')\n",
    "plt.bar(r2, bars2, width = barWidth, color = 'orange', edgecolor = 'black', capsize=7, label='Predictione')\n",
    " \n",
    "plt.xticks([r + barWidth for r in range(len(bars1))], ['Prediction_1', 'Prediction_2', 'Prediction_3', 'Prediction_4', 'Prediction_5'])\n",
    "plt.ylabel('Rating')\n",
    "plt.legend()\n",
    " \n",
    "plt.show()"
   ]
  },
  {
   "cell_type": "code",
   "execution_count": 68,
   "metadata": {},
   "outputs": [
    {
     "name": "stdout",
     "output_type": "stream",
     "text": [
      "Mean Squared Error =1.0098019067999742\n"
     ]
    }
   ],
   "source": [
    "als =ALS(maxIter=15,regParam=0.01, rank=50, seed=5033, userCol=\"user_id\", itemCol=\"book_id\", ratingCol=\"rating\")\n",
    "model = als.fit(training)\n",
    "predictions= model.transform(validation)\n",
    "new_predictions=predictions.filter(col('prediction') != np.nan)\n",
    "evaluator = RegressionEvaluator(metricName='mse',labelCol=\"rating\",predictionCol=\"prediction\")\n",
    "mse = evaluator.evaluate(new_predictions)\n",
    "print(\"Mean Squared Error =\" + str(mse))"
   ]
  },
  {
   "cell_type": "code",
   "execution_count": 69,
   "metadata": {},
   "outputs": [
    {
     "name": "stdout",
     "output_type": "stream",
     "text": [
      "+-------+-------+------+----------+\n",
      "|book_id|user_id|rating|prediction|\n",
      "+-------+-------+------+----------+\n",
      "|    148|   9731|     3|  3.734938|\n",
      "|    148|  24326|     5| 1.9356412|\n",
      "|    148|  10140|     3| 3.4691603|\n",
      "|    148|  13991|     4|  4.330987|\n",
      "|    148|  10610|     4|  3.619579|\n",
      "|    148|  11569|     2| 3.7257771|\n",
      "|    148|   8440|     3| 2.9929984|\n",
      "|    148|  29031|     3| 2.4262798|\n",
      "|    148|   8510|     3| 2.7059934|\n",
      "|    148|   2171|     4| 2.8103175|\n",
      "+-------+-------+------+----------+\n",
      "only showing top 10 rows\n",
      "\n"
     ]
    }
   ],
   "source": [
    "predictions = model.transform(validation)\n",
    "predictions.show(n=10)"
   ]
  },
  {
   "cell_type": "code",
   "execution_count": 70,
   "metadata": {},
   "outputs": [],
   "source": [
    "pred_arr = predictions.toPandas()"
   ]
  },
  {
   "cell_type": "code",
   "execution_count": 71,
   "metadata": {},
   "outputs": [
    {
     "data": {
      "image/png": "[encoded data removed]",
      "text/plain": [
       "<Figure size 432x288 with 1 Axes>"
      ]
     },
     "metadata": {
      "needs_background": "light"
     },
     "output_type": "display_data"
    }
   ],
   "source": [
    "bars1 = []\n",
    "bars2 = []\n",
    "\n",
    "for i in range(5):\n",
    "    bars1.append(pred_arr['rating'][i])\n",
    "    bars2.append(pred_arr['prediction'][i])\n",
    "\n",
    "barWidth = 0.3\n",
    " \n",
    "yer1 = [0.5, 0.4, 0.5]\n",
    "yer2 = [1, 0.7, 1]\n",
    " \n",
    "r1 = np.arange(len(bars1))\n",
    "r2 = [x + barWidth for x in r1]\n",
    " \n",
    "plt.bar(r1, bars1, width = barWidth, color = 'blue', edgecolor = 'black', capsize=7, label='Rating')\n",
    "plt.bar(r2, bars2, width = barWidth, color = 'orange', edgecolor = 'black', capsize=7, label='Predictione')\n",
    " \n",
    "plt.xticks([r + barWidth for r in range(len(bars1))], ['Prediction_1', 'Prediction_2', 'Prediction_3', 'Prediction_4', 'Prediction_5'])\n",
    "plt.ylabel('Rating')\n",
    "plt.legend()\n",
    " \n",
    "plt.show()"
   ]
  },
  {
   "cell_type": "code",
   "execution_count": 72,
   "metadata": {},
   "outputs": [
    {
     "name": "stdout",
     "output_type": "stream",
     "text": [
      "Mean Squared Error =0.7925187484233024\n"
     ]
    }
   ],
   "source": [
    "als =ALS(maxIter=15,regParam=0.1, rank=50, seed=5033, userCol=\"user_id\", itemCol=\"book_id\", ratingCol=\"rating\")\n",
    "model = als.fit(training)\n",
    "predictions= model.transform(validation)\n",
    "new_predictions=predictions.filter(col('prediction') != np.nan)\n",
    "evaluator = RegressionEvaluator(metricName='mse',labelCol=\"rating\",predictionCol=\"prediction\")\n",
    "mse = evaluator.evaluate(new_predictions)\n",
    "print(\"Mean Squared Error =\" + str(mse))"
   ]
  },
  {
   "cell_type": "code",
   "execution_count": 73,
   "metadata": {},
   "outputs": [
    {
     "name": "stdout",
     "output_type": "stream",
     "text": [
      "+-------+-------+------+----------+\n",
      "|book_id|user_id|rating|prediction|\n",
      "+-------+-------+------+----------+\n",
      "|    148|   9731|     3| 2.9452684|\n",
      "|    148|  24326|     5|  3.084248|\n",
      "|    148|  10140|     3| 2.7516904|\n",
      "|    148|  13991|     4| 3.6678934|\n",
      "|    148|  10610|     4| 3.6719153|\n",
      "|    148|  11569|     2| 3.6520538|\n",
      "|    148|   8440|     3| 2.9907384|\n",
      "|    148|  29031|     3| 3.2285612|\n",
      "|    148|   8510|     3| 2.7130141|\n",
      "|    148|   2171|     4| 3.2887998|\n",
      "+-------+-------+------+----------+\n",
      "only showing top 10 rows\n",
      "\n"
     ]
    }
   ],
   "source": [
    "predictions = model.transform(validation)\n",
    "predictions.show(n=10)"
   ]
  },
  {
   "cell_type": "code",
   "execution_count": 74,
   "metadata": {},
   "outputs": [],
   "source": [
    "pred_arr = predictions.toPandas()"
   ]
  },
  {
   "cell_type": "code",
   "execution_count": 75,
   "metadata": {},
   "outputs": [
    {
     "data": {
      "image/png": "[encoded data removed]",
      "text/plain": [
       "<Figure size 432x288 with 1 Axes>"
      ]
     },
     "metadata": {
      "needs_background": "light"
     },
     "output_type": "display_data"
    }
   ],
   "source": [
    "bars1 = []\n",
    "bars2 = []\n",
    "\n",
    "for i in range(5):\n",
    "    bars1.append(pred_arr['rating'][i])\n",
    "    bars2.append(pred_arr['prediction'][i])\n",
    "\n",
    "barWidth = 0.3\n",
    " \n",
    "yer1 = [0.5, 0.4, 0.5]\n",
    "yer2 = [1, 0.7, 1]\n",
    " \n",
    "r1 = np.arange(len(bars1))\n",
    "r2 = [x + barWidth for x in r1]\n",
    " \n",
    "plt.bar(r1, bars1, width = barWidth, color = 'blue', edgecolor = 'black', capsize=7, label='Rating')\n",
    "plt.bar(r2, bars2, width = barWidth, color = 'orange', edgecolor = 'black', capsize=7, label='Predictione')\n",
    " \n",
    "plt.xticks([r + barWidth for r in range(len(bars1))], ['Prediction_1', 'Prediction_2', 'Prediction_3', 'Prediction_4', 'Prediction_5'])\n",
    "plt.ylabel('Rating')\n",
    "plt.legend()\n",
    " \n",
    "plt.show()"
   ]
  },
  {
   "cell_type": "code",
   "execution_count": 76,
   "metadata": {},
   "outputs": [
    {
     "name": "stdout",
     "output_type": "stream",
     "text": [
      "Mean Squared Error =0.8700636231563605\n"
     ]
    }
   ],
   "source": [
    "als =ALS(maxIter=15,regParam=0.01, rank=100, seed=5033, userCol=\"user_id\", itemCol=\"book_id\", ratingCol=\"rating\")\n",
    "model = als.fit(training)\n",
    "predictions= model.transform(validation)\n",
    "new_predictions=predictions.filter(col('prediction') != np.nan)\n",
    "evaluator = RegressionEvaluator(metricName='mse',labelCol=\"rating\",predictionCol=\"prediction\")\n",
    "mse = evaluator.evaluate(new_predictions)\n",
    "print(\"Mean Squared Error =\" + str(mse))"
   ]
  },
  {
   "cell_type": "code",
   "execution_count": 77,
   "metadata": {},
   "outputs": [
    {
     "name": "stdout",
     "output_type": "stream",
     "text": [
      "+-------+-------+------+----------+\n",
      "|book_id|user_id|rating|prediction|\n",
      "+-------+-------+------+----------+\n",
      "|    148|   9731|     3|  2.999775|\n",
      "|    148|  24326|     5| 3.4364967|\n",
      "|    148|  10140|     3| 2.5697331|\n",
      "|    148|  13991|     4| 3.6858537|\n",
      "|    148|  10610|     4| 4.2121053|\n",
      "|    148|  11569|     2| 3.3501303|\n",
      "|    148|   8440|     3| 2.7785814|\n",
      "|    148|  29031|     3| 3.5694928|\n",
      "|    148|   8510|     3| 2.7600124|\n",
      "|    148|   2171|     4| 2.8715677|\n",
      "+-------+-------+------+----------+\n",
      "only showing top 10 rows\n",
      "\n"
     ]
    }
   ],
   "source": [
    "predictions = model.transform(validation)\n",
    "predictions.show(n=10)"
   ]
  },
  {
   "cell_type": "code",
   "execution_count": 78,
   "metadata": {},
   "outputs": [],
   "source": [
    "pred_arr = predictions.toPandas()"
   ]
  },
  {
   "cell_type": "code",
   "execution_count": 79,
   "metadata": {},
   "outputs": [
    {
     "data": {
      "image/png": "[encoded data removed]",
      "text/plain": [
       "<Figure size 432x288 with 1 Axes>"
      ]
     },
     "metadata": {
      "needs_background": "light"
     },
     "output_type": "display_data"
    }
   ],
   "source": [
    "bars1 = []\n",
    "bars2 = []\n",
    "\n",
    "for i in range(5):\n",
    "    bars1.append(pred_arr['rating'][i])\n",
    "    bars2.append(pred_arr['prediction'][i])\n",
    "\n",
    "barWidth = 0.3\n",
    " \n",
    "yer1 = [0.5, 0.4, 0.5]\n",
    "yer2 = [1, 0.7, 1]\n",
    " \n",
    "r1 = np.arange(len(bars1))\n",
    "r2 = [x + barWidth for x in r1]\n",
    " \n",
    "plt.bar(r1, bars1, width = barWidth, color = 'blue', edgecolor = 'black', capsize=7, label='Rating')\n",
    "plt.bar(r2, bars2, width = barWidth, color = 'orange', edgecolor = 'black', capsize=7, label='Predictione')\n",
    " \n",
    "plt.xticks([r + barWidth for r in range(len(bars1))], ['Prediction_1', 'Prediction_2', 'Prediction_3', 'Prediction_4', 'Prediction_5'])\n",
    "plt.ylabel('Rating')\n",
    "plt.legend()\n",
    " \n",
    "plt.show()"
   ]
  },
  {
   "cell_type": "code",
   "execution_count": 80,
   "metadata": {},
   "outputs": [
    {
     "name": "stdout",
     "output_type": "stream",
     "text": [
      "Mean Squared Error =0.7808862409919661\n"
     ]
    }
   ],
   "source": [
    "als =ALS(maxIter=15,regParam=0.1, rank=100, seed=5033, userCol=\"user_id\", itemCol=\"book_id\", ratingCol=\"rating\")\n",
    "model = als.fit(training)\n",
    "predictions= model.transform(validation)\n",
    "new_predictions=predictions.filter(col('prediction') != np.nan)\n",
    "evaluator = RegressionEvaluator(metricName='mse',labelCol=\"rating\",predictionCol=\"prediction\")\n",
    "mse = evaluator.evaluate(new_predictions)\n",
    "print(\"Mean Squared Error =\" + str(mse))"
   ]
  },
  {
   "cell_type": "code",
   "execution_count": 81,
   "metadata": {
    "scrolled": true
   },
   "outputs": [
    {
     "name": "stdout",
     "output_type": "stream",
     "text": [
      "+-------+-------+------+----------+\n",
      "|book_id|user_id|rating|prediction|\n",
      "+-------+-------+------+----------+\n",
      "|    148|   9731|     3|  2.851392|\n",
      "|    148|  24326|     5| 3.3352554|\n",
      "|    148|  10140|     3| 2.7846553|\n",
      "|    148|  13991|     4| 3.6586177|\n",
      "|    148|  10610|     4| 3.7049656|\n",
      "|    148|  11569|     2| 3.5707653|\n",
      "|    148|   8440|     3| 3.0381887|\n",
      "|    148|  29031|     3|  3.328506|\n",
      "|    148|   8510|     3|  2.973256|\n",
      "|    148|   2171|     4| 3.4758306|\n",
      "+-------+-------+------+----------+\n",
      "only showing top 10 rows\n",
      "\n"
     ]
    }
   ],
   "source": [
    "predictions = model.transform(validation)\n",
    "predictions.show(n=10)"
   ]
  },
  {
   "cell_type": "code",
   "execution_count": 82,
   "metadata": {},
   "outputs": [],
   "source": [
    "pred_arr = predictions.toPandas()"
   ]
  },
  {
   "cell_type": "code",
   "execution_count": 83,
   "metadata": {},
   "outputs": [
    {
     "data": {
      "image/png": "[encoded data removed]",
      "text/plain": [
       "<Figure size 432x288 with 1 Axes>"
      ]
     },
     "metadata": {
      "needs_background": "light"
     },
     "output_type": "display_data"
    }
   ],
   "source": [
    "bars1 = []\n",
    "bars2 = []\n",
    "\n",
    "for i in range(5):\n",
    "    bars1.append(pred_arr['rating'][i])\n",
    "    bars2.append(pred_arr['prediction'][i])\n",
    "\n",
    "barWidth = 0.3\n",
    " \n",
    "yer1 = [0.5, 0.4, 0.5]\n",
    "yer2 = [1, 0.7, 1]\n",
    " \n",
    "r1 = np.arange(len(bars1))\n",
    "r2 = [x + barWidth for x in r1]\n",
    " \n",
    "plt.bar(r1, bars1, width = barWidth, color = 'blue', edgecolor = 'black', capsize=7, label='Rating')\n",
    "plt.bar(r2, bars2, width = barWidth, color = 'orange', edgecolor = 'black', capsize=7, label='Predictione')\n",
    " \n",
    "plt.xticks([r + barWidth for r in range(len(bars1))], ['Prediction_1', 'Prediction_2', 'Prediction_3', 'Prediction_4', 'Prediction_5'])\n",
    "plt.ylabel('Rating')\n",
    "plt.legend()\n",
    " \n",
    "plt.show()"
   ]
  },
  {
   "cell_type": "code",
   "execution_count": 84,
   "metadata": {},
   "outputs": [
    {
     "name": "stdout",
     "output_type": "stream",
     "text": [
      "+-------+----------+----------+\n",
      "|user_id|     title|prediction|\n",
      "+-------+----------+----------+\n",
      "|  35982|Lysistrata| 3.7992926|\n",
      "|  12014|Lysistrata| 3.9062772|\n",
      "|  11326|Lysistrata| 4.0836697|\n",
      "|  12761|Lysistrata| 4.2158794|\n",
      "|  38734|Lysistrata|  4.483857|\n",
      "+-------+----------+----------+\n",
      "only showing top 5 rows\n",
      "\n"
     ]
    }
   ],
   "source": [
    "predictions.join(books, \"book_id\").select(\"user_id\",\"title\",\"prediction\").show(5)"
   ]
  },
  {
   "cell_type": "code",
   "execution_count": 85,
   "metadata": {},
   "outputs": [],
   "source": [
    "forOneUser = predictions.filter(col(\"user_id\")==35982).join(books,\"book_id\").select(\"user_id\",\"title\",\"image_url\",\"prediction\")"
   ]
  },
  {
   "cell_type": "code",
   "execution_count": 86,
   "metadata": {},
   "outputs": [
    {
     "data": {
      "text/plain": [
       "5"
      ]
     },
     "execution_count": 86,
     "metadata": {},
     "output_type": "execute_result"
    }
   ],
   "source": [
    "forOneUser.count()"
   ]
  },
  {
   "cell_type": "code",
   "execution_count": 87,
   "metadata": {},
   "outputs": [
    {
     "name": "stdout",
     "output_type": "stream",
     "text": [
      "+-------+--------------------+--------------------+----------+\n",
      "|user_id|               title|           image_url|prediction|\n",
      "+-------+--------------------+--------------------+----------+\n",
      "|  35982|          Lysistrata|https://images.gr...| 3.7992926|\n",
      "|  35982|              Anthem|https://s.gr-asse...| 2.0331638|\n",
      "|  35982|Another Bullshit ...|https://s.gr-asse...|  3.631935|\n",
      "|  35982|City of Glass (Th...|https://images.gr...| 3.6882682|\n",
      "|  35982|The Iliad/The Ody...|https://s.gr-asse...| 2.7727218|\n",
      "+-------+--------------------+--------------------+----------+\n",
      "\n"
     ]
    }
   ],
   "source": [
    "forOneUser.show()"
   ]
  },
  {
   "cell_type": "code",
   "execution_count": 91,
   "metadata": {},
   "outputs": [
    {
     "name": "stdout",
     "output_type": "stream",
     "text": [
      "Lysistrata\n"
     ]
    },
    {
     "data": {
      "text/html": [
       "<img src=\"https://images.gr-assets.com/books/1335892524m/1591.jpg\"/>"
      ],
      "text/plain": [
       "<IPython.core.display.Image object>"
      ]
     },
     "metadata": {},
     "output_type": "display_data"
    },
    {
     "name": "stdout",
     "output_type": "stream",
     "text": [
      "Anthem\n"
     ]
    },
    {
     "data": {
      "text/html": [
       "<img src=\"https://s.gr-assets.com/assets/nophoto/book/111x148-bcc042a9c91a29c1d680899eff700a03.png\"/>"
      ],
      "text/plain": [
       "<IPython.core.display.Image object>"
      ]
     },
     "metadata": {},
     "output_type": "display_data"
    },
    {
     "name": "stdout",
     "output_type": "stream",
     "text": [
      "Another Bullshit Night in Suck City\n"
     ]
    },
    {
     "data": {
      "text/html": [
       "<img src=\"https://s.gr-assets.com/assets/nophoto/book/111x148-bcc042a9c91a29c1d680899eff700a03.png\"/>"
      ],
      "text/plain": [
       "<IPython.core.display.Image object>"
      ]
     },
     "metadata": {},
     "output_type": "display_data"
    },
    {
     "name": "stdout",
     "output_type": "stream",
     "text": [
      "City of Glass (The New York Trilogy, #1)\n"
     ]
    },
    {
     "data": {
      "text/html": [
       "<img src=\"https://images.gr-assets.com/books/1309986722m/432.jpg\"/>"
      ],
      "text/plain": [
       "<IPython.core.display.Image object>"
      ]
     },
     "metadata": {},
     "output_type": "display_data"
    },
    {
     "name": "stdout",
     "output_type": "stream",
     "text": [
      "The Iliad/The Odyssey\n"
     ]
    },
    {
     "data": {
      "text/html": [
       "<img src=\"https://s.gr-assets.com/assets/nophoto/book/111x148-bcc042a9c91a29c1d680899eff700a03.png\"/>"
      ],
      "text/plain": [
       "<IPython.core.display.Image object>"
      ]
     },
     "metadata": {},
     "output_type": "display_data"
    }
   ],
   "source": [
    "from IPython.display import display\n",
    "from IPython.display import Image\n",
    "for book in forOneUser.take(10):\n",
    "    print(book.title)\n",
    "    display(Image(url=book.image_url))"
   ]
  },
  {
   "cell_type": "code",
   "execution_count": 92,
   "metadata": {},
   "outputs": [],
   "source": [
    "#Generate top 5 books recommendations for each user\n",
    "userRecomments = model.recommendForAllUsers(5)\n",
    "#Generate top 5 user recommendations for each book\n",
    "bookRecomments = model.recommendForAllItems(5)"
   ]
  },
  {
   "cell_type": "code",
   "execution_count": 93,
   "metadata": {},
   "outputs": [
    {
     "name": "stdout",
     "output_type": "stream",
     "text": [
      "+-------+------------------------------+\n",
      "|user_id|book_id                       |\n",
      "+-------+------------------------------+\n",
      "|148    |[9842, 8926, 8548, 9076, 7305]|\n",
      "|463    |[2975, 5388, 7325, 9114, 3395]|\n",
      "|471    |[7438, 862, 1029, 3321, 4674] |\n",
      "|496    |[6902, 8897, 9842, 8521, 4778]|\n",
      "|833    |[8548, 5207, 8516, 5754, 9842]|\n",
      "|1088   |[3628, 1380, 2353, 3472, 1788]|\n",
      "|1238   |[7399, 928, 8548, 985, 721]   |\n",
      "|1342   |[7401, 4868, 3817, 1788, 5627]|\n",
      "|1580   |[6590, 6920, 8109, 1265, 8187]|\n",
      "|1591   |[8866, 3753, 3241, 7902, 3345]|\n",
      "+-------+------------------------------+\n",
      "only showing top 10 rows\n",
      "\n"
     ]
    }
   ],
   "source": [
    "userRecomments.select(\"user_id\",\"recommendations.book_id\").show(10,False)"
   ]
  },
  {
   "cell_type": "code",
   "execution_count": 94,
   "metadata": {},
   "outputs": [
    {
     "name": "stdout",
     "output_type": "stream",
     "text": [
      "root\n",
      " |-- user_id: integer (nullable = false)\n",
      " |-- recommendations: array (nullable = true)\n",
      " |    |-- element: struct (containsNull = true)\n",
      " |    |    |-- book_id: integer (nullable = true)\n",
      " |    |    |-- rating: float (nullable = true)\n",
      "\n"
     ]
    }
   ],
   "source": [
    "userRecomments.printSchema()"
   ]
  },
  {
   "cell_type": "code",
   "execution_count": 95,
   "metadata": {},
   "outputs": [
    {
     "name": "stdout",
     "output_type": "stream",
     "text": [
      "+-------+-----------------------------------+\n",
      "|book_id|user_id                            |\n",
      "+-------+-----------------------------------+\n",
      "|1580   |[13006, 46421, 7120, 44637, 22313] |\n",
      "|4900   |[52028, 20914, 45943, 38867, 36452]|\n",
      "|5300   |[50889, 32039, 48009, 40992, 33982]|\n",
      "|6620   |[40439, 20597, 28066, 22111, 44637]|\n",
      "|7240   |[40439, 4134, 52028, 36452, 52469] |\n",
      "|7340   |[33099, 12912, 50291, 36452, 52028]|\n",
      "|7880   |[28777, 8403, 10340, 39714, 28975] |\n",
      "|9900   |[6240, 38866, 35102, 40439, 50209] |\n",
      "|471    |[12912, 22313, 13006, 18102, 4134] |\n",
      "|1591   |[13006, 21947, 50291, 42125, 31925]|\n",
      "+-------+-----------------------------------+\n",
      "only showing top 10 rows\n",
      "\n"
     ]
    }
   ],
   "source": [
    "bookRecomments.select(\"book_id\",\"recommendations.user_id\").show(10,False)"
   ]
  },
  {
   "cell_type": "code",
   "execution_count": 96,
   "metadata": {},
   "outputs": [
    {
     "name": "stdout",
     "output_type": "stream",
     "text": [
      "+-------+\n",
      "|user_id|\n",
      "+-------+\n",
      "|  32592|\n",
      "|  19984|\n",
      "|  35982|\n",
      "+-------+\n",
      "\n"
     ]
    }
   ],
   "source": [
    "#Generate top 10 book recommendations for a specified set of users\n",
    "users = ratings.select(\"user_id\").distinct().limit(3);\n",
    "users.show()"
   ]
  },
  {
   "cell_type": "code",
   "execution_count": 97,
   "metadata": {},
   "outputs": [],
   "source": [
    "userSubsetRecs = model.recommendForUserSubset(users,10)"
   ]
  },
  {
   "cell_type": "code",
   "execution_count": 98,
   "metadata": {},
   "outputs": [
    {
     "name": "stdout",
     "output_type": "stream",
     "text": [
      "+-------+--------------------+\n",
      "|user_id|     recommendations|\n",
      "+-------+--------------------+\n",
      "|  32592|[[3753, 4.8878], ...|\n",
      "|  35982|[[983, 4.668975],...|\n",
      "|  19984|[[3753, 5.9829097...|\n",
      "+-------+--------------------+\n",
      "\n"
     ]
    }
   ],
   "source": [
    "userSubsetRecs.show()"
   ]
  },
  {
   "cell_type": "code",
   "execution_count": 99,
   "metadata": {},
   "outputs": [
    {
     "name": "stdout",
     "output_type": "stream",
     "text": [
      "+-------+------------------------------------------------------------+\n",
      "|user_id|book_id                                                     |\n",
      "+-------+------------------------------------------------------------+\n",
      "|32592  |[3753, 9076, 1597, 6902, 1308, 862, 1274, 2101, 3628, 4868] |\n",
      "|35982  |[983, 5580, 5207, 7254, 3628, 7593, 1788, 6590, 2869, 6361] |\n",
      "|19984  |[3753, 9076, 6902, 9842, 8548, 3628, 6920, 3491, 1618, 1010]|\n",
      "+-------+------------------------------------------------------------+\n",
      "\n"
     ]
    }
   ],
   "source": [
    "userSubsetRecs.select(\"user_id\",\"recommendations.book_id\").show(10,False)"
   ]
  },
  {
   "cell_type": "code",
   "execution_count": 100,
   "metadata": {},
   "outputs": [
    {
     "name": "stdout",
     "output_type": "stream",
     "text": [
      "+-------+\n",
      "|book_id|\n",
      "+-------+\n",
      "|    148|\n",
      "|    463|\n",
      "|    471|\n",
      "+-------+\n",
      "\n"
     ]
    }
   ],
   "source": [
    "#Generate top 10 user recommendations for a specified set of books\n",
    "book1 = ratings.select(\"book_id\").distinct().limit(3)\n",
    "book1.show()"
   ]
  },
  {
   "cell_type": "code",
   "execution_count": 102,
   "metadata": {},
   "outputs": [
    {
     "name": "stdout",
     "output_type": "stream",
     "text": [
      "+-------+----------------------------------------------------------------------+\n",
      "|book_id|user_id                                                               |\n",
      "+-------+----------------------------------------------------------------------+\n",
      "|471    |[12912, 22313, 13006, 18102, 4134, 30184, 19941, 24073, 33099, 33969] |\n",
      "|463    |[22313, 44191, 49830, 41421, 19137, 52469, 42125, 22186, 39979, 30653]|\n",
      "|148    |[22313, 11193, 13006, 33969, 7868, 46421, 8643, 19984, 32996, 23487]  |\n",
      "+-------+----------------------------------------------------------------------+\n",
      "\n"
     ]
    }
   ],
   "source": [
    "bookSubSetRecs = model.recommendForItemSubset(book1, 10)\n",
    "bookSubSetRecs.select(\"book_id\",\"recommendations.user_id\").show(10,False)"
   ]
  },
  {
   "cell_type": "code",
   "execution_count": 103,
   "metadata": {},
   "outputs": [],
   "source": [
    "#Prediction for a user and match with to-read list\n",
    "book_ids = [860,1524,2885,2914,5297,7397,8802,9506]\n",
    "user_ids = [4917,4917,4917,4917,4917,4917,4917,4917]\n",
    "new_user_preds = sqlContext.createDataFrame(zip(book_ids,user_ids), schema = ['book_id','user_id'])"
   ]
  },
  {
   "cell_type": "code",
   "execution_count": 104,
   "metadata": {},
   "outputs": [
    {
     "name": "stdout",
     "output_type": "stream",
     "text": [
      "+-------+-------+\n",
      "|book_id|user_id|\n",
      "+-------+-------+\n",
      "|    860|   4917|\n",
      "|   1524|   4917|\n",
      "|   2885|   4917|\n",
      "|   2914|   4917|\n",
      "|   5297|   4917|\n",
      "|   7397|   4917|\n",
      "|   8802|   4917|\n",
      "|   9506|   4917|\n",
      "+-------+-------+\n",
      "\n"
     ]
    }
   ],
   "source": [
    "new_user_preds.show()"
   ]
  },
  {
   "cell_type": "code",
   "execution_count": 105,
   "metadata": {},
   "outputs": [
    {
     "name": "stdout",
     "output_type": "stream",
     "text": [
      "+-------+-------+----------+\n",
      "|book_id|user_id|prediction|\n",
      "+-------+-------+----------+\n",
      "|   2914|   4917| 2.8714437|\n",
      "|    860|   4917| 3.5368922|\n",
      "|   2885|   4917|  3.168972|\n",
      "|   7397|   4917| 3.0444274|\n",
      "|   8802|   4917| 3.2045946|\n",
      "|   9506|   4917|  3.124133|\n",
      "|   1524|   4917| 3.6029627|\n",
      "|   5297|   4917|  3.391838|\n",
      "+-------+-------+----------+\n",
      "\n"
     ]
    }
   ],
   "source": [
    "new_predictions = model.transform(new_user_preds)\n",
    "new_predictions.show()"
   ]
  },
  {
   "cell_type": "code",
   "execution_count": null,
   "metadata": {},
   "outputs": [],
   "source": []
  }
 ],
 "metadata": {
  "kernelspec": {
   "display_name": "Python 3",
   "language": "python",
   "name": "python3"
  },
  "language_info": {
   "codemirror_mode": {
    "name": "ipython",
    "version": 3
   },
   "file_extension": ".py",
   "mimetype": "text/x-python",
   "name": "python",
   "nbconvert_exporter": "python",
   "pygments_lexer": "ipython3",
   "version": "3.7.7"
  }
 },
 "nbformat": 4,
 "nbformat_minor": 4
}
